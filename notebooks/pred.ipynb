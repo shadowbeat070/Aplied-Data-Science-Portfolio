{
 "cells": [
  {
   "cell_type": "code",
   "execution_count": 2,
   "metadata": {},
   "outputs": [],
   "source": [
    "from surprise import Dataset\n",
    "from surprise import Reader\n",
    "from surprise import KNNWithMeans, KNNBasic, KNNBaseline\n",
    "from surprise.model_selection import GridSearchCV\n",
    "from surprise import SVD\n",
    "from surprise.model_selection import train_test_split\n",
    "from surprise import accuracy\n",
    "from sklearn.metrics import make_scorer\n",
    "import pandas as pd\n",
    "\n",
    "\n",
    "recipesdf = pd.read_csv(\"recipes.csv\")\n",
    "reviewsdf = pd.read_csv(\"reviews.csv\")\n",
    "reviewsdf = reviewsdf.head(100000)\n"
   ]
  },
  {
   "cell_type": "code",
   "execution_count": 3,
   "metadata": {},
   "outputs": [],
   "source": [
    "col_one_list = reviewsdf['AuthorId'].tolist()\n",
    "col_two_list = reviewsdf['RecipeId'].tolist()\n",
    "col_three_list = reviewsdf['Rating'].tolist()\n",
    "\n",
    "ratings_dict = {\n",
    "    \"item\": col_two_list,\n",
    "    \"user\": col_one_list,\n",
    "    \"rating\": col_three_list,\n",
    "}\n",
    "\n",
    "df = pd.DataFrame(ratings_dict)\n",
    "\n",
    "reader = Reader(rating_scale=(0, 5))\n",
    "data = Dataset.load_from_df(df[[\"user\", \"item\", \"rating\"]], reader)\n",
    "trainingSet = data.build_full_trainset()\n",
    "trainset, testset = train_test_split(data, test_size=0.25)\n"
   ]
  },
  {
   "cell_type": "code",
   "execution_count": 4,
   "metadata": {},
   "outputs": [
    {
     "name": "stdout",
     "output_type": "stream",
     "text": [
      "RMSE: 1.0435\n"
     ]
    },
    {
     "data": {
      "text/plain": [
       "1.0435206654963163"
      ]
     },
     "execution_count": 4,
     "metadata": {},
     "output_type": "execute_result"
    }
   ],
   "source": [
    "algo = SVD()\n",
    "algo.fit(trainset)\n",
    "predictions = algo.test(testset)\n",
    "accuracy.rmse(predictions)"
   ]
  },
  {
   "cell_type": "code",
   "execution_count": 5,
   "metadata": {},
   "outputs": [],
   "source": [
    "# knnbasic_tuned = KNNBasic(sim_options={'name': 'cosine', 'user_based': True,'min_support': True, 'min_k': 2,})\n",
    "# knnbasic_tuned.fit(trainset)\n",
    "# knnbpreds = knnbasic_tuned.test(testset)\n",
    "\n",
    "# accuracy.rmse(knnbpreds)\n",
    "# accuracy.mae(knnbpreds)"
   ]
  },
  {
   "cell_type": "code",
   "execution_count": 6,
   "metadata": {},
   "outputs": [],
   "source": [
    "# knnbaseline_tuned = KNNBaseline(sim_options={'name': 'cosine', 'user_based': True, 'min_support': True, 'min_k': 2,})\n",
    "# knnbaseline_tuned.fit(trainset)\n",
    "# knnbpreds = knnbaseline_tuned.test(testset)\n",
    "\n",
    "# accuracy.rmse(knnbpreds)\n",
    "# accuracy.mae(knnbpreds)"
   ]
  },
  {
   "cell_type": "code",
   "execution_count": 7,
   "metadata": {},
   "outputs": [],
   "source": [
    "# # To use item-based cosine similarity\n",
    "# sim_options = {\n",
    "#     \"name\": \"cosine\",\n",
    "#     \"user_based\": False,  # Compute  similarities between items\n",
    "# }\n",
    "# algo = KNNWithMeans(sim_options=sim_options)\n",
    "# algo.fit(trainingSet)\n",
    "\n",
    "# prediction = algo.predict('1', 70)\n",
    "# prediction.est"
   ]
  },
  {
   "cell_type": "code",
   "execution_count": 8,
   "metadata": {},
   "outputs": [],
   "source": [
    "# sim_options = {\n",
    "#     \"name\": [\"msd\", \"cosine\"],\n",
    "#     \"min_support\": [3, 4, 5],\n",
    "#     \"user_based\": [False, True],\n",
    "# }\n",
    "\n",
    "# param_grid = {\"sim_options\": sim_options}\n",
    "\n",
    "# gs = GridSearchCV(KNNWithMeans, param_grid, measures=[\"rmse\", \"mae\"], cv=3)\n",
    "# gs.fit(data)\n",
    "\n",
    "# print(gs.best_score)\n",
    "# print(gs.best_params)\n"
   ]
  },
  {
   "cell_type": "code",
   "execution_count": 9,
   "metadata": {},
   "outputs": [
    {
     "name": "stdout",
     "output_type": "stream",
     "text": [
      "{'rmse': 1.0379689355371358, 'mae': 0.6200058703029125}\n",
      "{'rmse': {'n_epochs': 20, 'lr_all': 0.01, 'reg_all': 0.1}, 'mae': {'n_epochs': 20, 'lr_all': 0.01, 'reg_all': 0.1}}\n"
     ]
    }
   ],
   "source": [
    "param_grid = {\n",
    "    \"n_epochs\": [20,50,100],\n",
    "    \"lr_all\":  [0.01,0.02,0.03],\n",
    "    \"reg_all\": [0.2,0.1,0.05]\n",
    "}\n",
    "gs = GridSearchCV(SVD, param_grid, measures=[\"rmse\", \"mae\"], cv=5, refit = True)\n",
    "\n",
    "gs.fit(data)\n",
    "\n",
    "print(gs.best_score)\n",
    "print(gs.best_params)"
   ]
  },
  {
   "cell_type": "code",
   "execution_count": 11,
   "metadata": {},
   "outputs": [
    {
     "data": {
      "text/plain": [
       "4.50464"
      ]
     },
     "execution_count": 11,
     "metadata": {},
     "output_type": "execute_result"
    }
   ],
   "source": [
    "prediction = gs.predict(41, 48730)\n",
    "prediction.est"
   ]
  }
 ],
 "metadata": {
  "kernelspec": {
   "display_name": "Python 3.10.8 64-bit (microsoft store)",
   "language": "python",
   "name": "python3"
  },
  "language_info": {
   "codemirror_mode": {
    "name": "ipython",
    "version": 3
   },
   "file_extension": ".py",
   "mimetype": "text/x-python",
   "name": "python",
   "nbconvert_exporter": "python",
   "pygments_lexer": "ipython3",
   "version": "3.10.8"
  },
  "orig_nbformat": 4,
  "vscode": {
   "interpreter": {
    "hash": "a63501da4ff5345f792f8d85fdbe5e308a00ec1c83390f9577f8c8a1adb4af3a"
   }
  }
 },
 "nbformat": 4,
 "nbformat_minor": 2
}
