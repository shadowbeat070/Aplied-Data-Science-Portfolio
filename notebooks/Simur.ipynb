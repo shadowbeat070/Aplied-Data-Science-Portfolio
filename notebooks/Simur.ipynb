{
 "cells": [
  {
   "cell_type": "code",
   "execution_count": 1,
   "metadata": {},
   "outputs": [],
   "source": [
    "import pandas as pd\n",
    "import numpy as np\n",
    "from collections import OrderedDict\n",
    "from IPython.display import display\n",
    "import random\n",
    "import names as nm"
   ]
  },
  {
   "cell_type": "code",
   "execution_count": 2,
   "metadata": {},
   "outputs": [],
   "source": [
    "df = pd.read_csv(\"Data/food_merge_2.csv\")\n",
    "df = df.assign(Like=0)\n",
    "dftags = pd.read_csv(\"Data/tags.csv\")"
   ]
  },
  {
   "cell_type": "code",
   "execution_count": 3,
   "metadata": {},
   "outputs": [],
   "source": [
    "class User:\n",
    "    def __init__(self,name, recipes, tag):\n",
    "        self.name = name\n",
    "        self.recipes = recipes\n",
    "        self.tag = tag\n",
    "    def __repr__(self):\n",
    "        return self.name + \" \" + self.tag + \" \" + str(self.recipes)\n",
    "        \n",
    "def Tagspicking():\n",
    "    TagsList = []\n",
    "    for index, row in dftags.iterrows():\n",
    "        TagsList.append(row[\"tag\"])\n",
    "    TagsList = list(set(TagsList)) \n",
    "    return TagsList \n",
    "\n",
    "#def Krimp():\n",
    "    TagKrimp = Tagspicking()\n",
    "    RecipeKrimp = []\n",
    "    for i in TagKrimp:\n",
    "        RecipeKrimp.append(random.choice(dftags['tag'].isin() == i))                    \n",
    "    RecipeKrimp = list(set(RecipeKrimp))\n",
    "    return RecipeKrimp\n",
    "    \n",
    "def SimUser(TagsList):\n",
    "    UsersList = []\n",
    "    for i in range(9):\n",
    "        Recipes = []\n",
    "        Taggers = (random.choice(TagsList))\n",
    "        RecipeList = dftags.loc[dftags['tag'] == Taggers].recipe.to_list()\n",
    "        #display(RecipeList)\n",
    "        Recipes.append(random.choices(RecipeList, k=10))\n",
    "        UsersList.append(User(\"name\" + str(i), Recipes,Taggers))\n",
    "    return UsersList\n",
    "    \n",
    "        \n",
    "def Main():        \n",
    "    TagsList = Tagspicking()\n",
    "    UsersList = SimUser(TagsList)\n",
    "    for i in range(0, len(UsersList)):\n",
    "\n",
    "     print(UsersList[i])"
   ]
  },
  {
   "cell_type": "code",
   "execution_count": 4,
   "metadata": {},
   "outputs": [
    {
     "name": "stdout",
     "output_type": "stream",
     "text": [
      "name0 grieks [['Gepofte aardappel met Griekse gehaktspies', 'Vegan moussaka', 'Griekse kip in tomatensaus', 'Griekse rijstsalade met kipspies, dille &amp; olijven', 'Whipped feta met gegrilde paprika', 'Homemade moussaka met kruiden', 'Griekse traybake met kip &amp; muntyoghurt', 'Griekse barbecuesalade', 'Griekse couscous ', 'Souvlaki']]\n",
      "name1 noedels [['Snelle noedels met kip en Aziatische wokgroente', 'Vega gehakt van tofu met mie en paksoi', 'Snelle noedels met kip en Aziatische wokgroente', 'Noedels met portobello &amp; oestersaus', 'Stir-fry met sugarsnaps, biefstuk en oestersaus', 'Chow mein', 'Japanse roerbak met noedels en pittige kip', 'Snelle noedels met kip en Aziatische wokgroente', 'Zilvervliesnoedelsalade met garnalen', 'Eenpersoons wokgerecht met noedels en cashewnoten']]\n",
      "name2 bijgerecht [['Geschaafde-spruitensalade met hazelnoten', 'Aardappelgratins van de BBQ', 'Gesmoorde rookworst', 'Scallion pancakes', 'Bearnaisesaus', 'Frisse andijvie-nectarinesalade', 'Tzatziki met dille', 'Appelmoes', 'Kip met bietenrelish', 'Frites van koolraap en knolselderij']]\n",
      "name3 indiaas [['Gehaktballetjes in yoghurtsaus', 'Kipburger met linzen, gebakken aardappeltjes en witlofsalade', 'Pompoensoep met mangochutney', 'Kip tandoori', 'Tikka masala met aubergine en kikkererwten', 'Indiase viscurry met pompoen', 'Poriyal (Indiaas gebakken groenten) ', 'Curry van linzen-runderballetjes met rijst', 'Schelvis in korma met gele rijst', 'Gevuld naanbrood met kruidige kalkoenfilet']]\n",
      "name4 italiaans [['Gebakken witlof met balsamico en pijnboompitten', 'Spaghetti met gehaktballetjes in tomatensaus', 'Pasta pesto', 'Romige risotto met parmezaan &amp; tuinkers', 'Italiaanse vis met kappertjes', 'Zalm met spinazie en papillotte', 'Perline met broccoli &amp; tartufosaus', 'Cappuccino spongecake met chocomousse', 'Volkoren pasta met gehaktballetjes ', 'Risotto met groente en garnalen']]\n",
      "name5 japans [['Komkommerroerbak met sesam &amp; omelet', 'Sushibombe met rivierkreeftjes, avocado en zalm', 'Yakitori', 'Komkommerroerbak met sesam &amp; omelet', 'Tempura van herfstgroenten', 'Kip teriyaki met paprika ', 'Kip teriyaki met paprika ', 'Yakitori', 'Soufflé pancakes', 'Lauwwarme soba noedels met sugarsnaps, paprika &amp; zalm']]\n",
      "name6 egyptisch [['Pita  falafel', 'Pita  falafel', 'Pita  falafel', 'Pita  falafel', 'Pita  falafel', 'Pita  falafel', 'Pita  falafel', 'Pita  falafel', 'Pita  falafel', 'Pita  falafel']]\n",
      "name7 ontbijt [['Panettone', 'Ontbijtbananasplit', 'Geroosterd brood met zuivelspread en kiwi', 'Sinaasappelkwark met muesli, kiwi en blauwe bessen', 'Het perfecte roerei', 'Pancakes met banaan', 'Smoothiebowl', 'Zuivel-sundae', 'Roerei met avocado en geitenkaas van Denise Kortlever', 'Zomerfruit smoothie']]\n",
      "name8 diner [['Hamburger stroganoff', 'Noedels met roerbakgroenten en umami-gehakt', 'Volkorenpenne met kalkoen en veldslapesto', 'Pizzabaguettes met paprika en salami', 'Pasta met pestosaus en gegrilde tomaten', 'Gnocchi met kipsaltimbocca', 'Lasagne met pompoen en appel', 'Hamburger stroganoff', 'Romige koude preisoep (vichyssoise)', 'Witlofschotel met gehaktballetjes']]\n"
     ]
    }
   ],
   "source": [
    "Main()"
   ]
  }
 ],
 "metadata": {
  "kernelspec": {
   "display_name": "Python 3",
   "language": "python",
   "name": "python3"
  },
  "language_info": {
   "codemirror_mode": {
    "name": "ipython",
    "version": 3
   },
   "file_extension": ".py",
   "mimetype": "text/x-python",
   "name": "python",
   "nbconvert_exporter": "python",
   "pygments_lexer": "ipython3",
   "version": "3.10.9 (tags/v3.10.9:1dd9be6, Dec  6 2022, 20:01:21) [MSC v.1934 64 bit (AMD64)]"
  },
  "orig_nbformat": 4,
  "vscode": {
   "interpreter": {
    "hash": "a63501da4ff5345f792f8d85fdbe5e308a00ec1c83390f9577f8c8a1adb4af3a"
   }
  }
 },
 "nbformat": 4,
 "nbformat_minor": 2
}
